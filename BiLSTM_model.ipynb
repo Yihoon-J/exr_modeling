{
  "cells": [
    {
      "cell_type": "code",
      "execution_count": 2,
      "metadata": {},
      "outputs": [
        {
          "name": "stdout",
          "output_type": "stream",
          "text": [
            "Num GPUs Available:  1\n"
          ]
        }
      ],
      "source": [
        "#GPU 사용 가능한지 체크\n",
        "import tensorflow as tf\n",
        "print(\"Num GPUs Available: \", len(tf.config.experimental.list_physical_devices('GPU')))"
      ]
    },
    {
      "cell_type": "code",
      "execution_count": 3,
      "metadata": {
        "colab": {
          "base_uri": "https://localhost:8080/"
        },
        "id": "ejO4HV4OataS",
        "outputId": "867be7dc-9bfd-4871-a694-da48afd8ff18"
      },
      "outputs": [],
      "source": [
        "# !pip install boruta\n",
        "# !pip install arch\n",
        "# !pip install matplotlib\n",
        "# !pip install seaborn\n",
        "# !pip install borutapy\n",
        "# !pip install joblib\n",
        "#pip install tqdm\n",
        "#!pip install scikeras\n"
      ]
    },
    {
      "cell_type": "code",
      "execution_count": 4,
      "metadata": {
        "id": "rdyeezQnbrqD"
      },
      "outputs": [],
      "source": [
        "import pandas as pd\n",
        "import numpy as np\n",
        "import matplotlib.pyplot as plt\n",
        "import joblib"
      ]
    },
    {
      "cell_type": "code",
      "execution_count": 5,
      "metadata": {},
      "outputs": [],
      "source": [
        "import keras\n",
        "\n",
        "from keras.models import Sequential\n",
        "from keras.layers import Dense\n",
        "from keras.layers import Flatten\n",
        "from keras.layers import LSTM, Bidirectional\n",
        "from keras.layers import RepeatVector\n",
        "from keras.layers import TimeDistributed\n",
        "from keras.layers import Dropout\n",
        "from keras.layers.convolutional import Conv1D\n",
        "from keras.layers.convolutional import MaxPooling1D\n",
        "from keras.callbacks import EarlyStopping\n",
        "from scikeras.wrappers import KerasClassifier\n",
        "import attention"
      ]
    },
    {
      "cell_type": "code",
      "execution_count": 6,
      "metadata": {},
      "outputs": [],
      "source": [
        "from sklearn.preprocessing import MinMaxScaler"
      ]
    },
    {
      "attachments": {},
      "cell_type": "markdown",
      "metadata": {
        "id": "rfPHWhtAJlWD"
      },
      "source": [
        "# 전처리\n"
      ]
    },
    {
      "cell_type": "code",
      "execution_count": 7,
      "metadata": {
        "id": "F8Bf41fB0O2k"
      },
      "outputs": [],
      "source": [
        "df=pd.read_excel('./F5_데이터정리.xlsx', sheet_name='Daily')['mkt_exr']"
      ]
    },
    {
      "cell_type": "code",
      "execution_count": 8,
      "metadata": {},
      "outputs": [
        {
          "data": {
            "text/plain": [
              "0"
            ]
          },
          "execution_count": 8,
          "metadata": {},
          "output_type": "execute_result"
        }
      ],
      "source": [
        "#결측치 확인\n",
        "df.isna().sum()"
      ]
    },
    {
      "cell_type": "code",
      "execution_count": 9,
      "metadata": {},
      "outputs": [],
      "source": [
        "#minmaxscaler\n",
        "scaler=MinMaxScaler()\n",
        "df=pd.DataFrame(scaler.fit_transform(np.array(df).reshape(-1,1)))"
      ]
    },
    {
      "cell_type": "code",
      "execution_count": 10,
      "metadata": {},
      "outputs": [
        {
          "name": "stdout",
          "output_type": "stream",
          "text": [
            "4653 1163\n"
          ]
        }
      ],
      "source": [
        "#train test split\n",
        "test_index=int(np.round(len(df)*0.8,0))\n",
        "train_full=df[:test_index]\n",
        "test=df[test_index:]\n",
        "print(train_full.shape[0], test.shape[0])"
      ]
    },
    {
      "cell_type": "code",
      "execution_count": 11,
      "metadata": {},
      "outputs": [
        {
          "name": "stdout",
          "output_type": "stream",
          "text": [
            "3490 1163\n"
          ]
        }
      ],
      "source": [
        "#train set 다시 validation set split\n",
        "val_index=int(np.round(len(train_full)*0.75,0))\n",
        "train=train_full[:val_index]\n",
        "valid=train_full[val_index:]\n",
        "print(train.shape[0], valid.shape[0])"
      ]
    },
    {
      "cell_type": "code",
      "execution_count": 12,
      "metadata": {},
      "outputs": [],
      "source": [
        "#data to sequence\n",
        "def create_data_sequence(X, time_steps):\n",
        "    input_sequence, output, times = [], [], []\n",
        "    for i in range(len(X) - time_steps -1):\n",
        "        sequence = X.iloc[i:(i + time_steps)].values\n",
        "        input_sequence.append(sequence)\n",
        "        output.append(X.iloc[i + time_steps +1]) #1일 뒤의 환율을 가져옴\n",
        "        times.append(X.index[i:(i+time_steps)])\n",
        "    return np.array(input_sequence), np.array(output), np.array(times)\n",
        "\n",
        "#input: x data\n",
        "#output: x sequential data\n",
        "def get_seq(x_data, time_steps=100):\n",
        "    x_set_sequence, x_set_output, x_times = create_data_sequence(x_data, time_steps)\n",
        "    return x_set_sequence, x_set_output[:], x_times"
      ]
    },
    {
      "cell_type": "code",
      "execution_count": 13,
      "metadata": {},
      "outputs": [],
      "source": [
        "#get data set\n",
        "train_set_sequence, train_set_output, train_times = get_seq(train)\n",
        "valid_set_sequence, valid_set_output, valid_times = get_seq(valid)\n",
        "test_set_sequence, test_set_output, test_times = get_seq(test)"
      ]
    },
    {
      "cell_type": "code",
      "execution_count": 14,
      "metadata": {},
      "outputs": [],
      "source": [
        "#reshape data\n",
        "train_set_sequence=train_set_sequence.reshape(train_set_sequence.shape[0], train_set_sequence.shape[1], 1)\n",
        "valid_set_sequence=valid_set_sequence.reshape(valid_set_sequence.shape[0], valid_set_sequence.shape[1], 1)\n",
        "test_set_sequence=test_set_sequence.reshape(test_set_sequence.shape[0], test_set_sequence.shape[1], 1)"
      ]
    },
    {
      "attachments": {},
      "cell_type": "markdown",
      "metadata": {},
      "source": [
        "# Model 1. CNN-BiLSTM"
      ]
    },
    {
      "cell_type": "code",
      "execution_count": 15,
      "metadata": {},
      "outputs": [
        {
          "name": "stdout",
          "output_type": "stream",
          "text": [
            "WARNING:tensorflow:Layer lstm will not use cuDNN kernels since it doesn't meet the criteria. It will use a generic GPU kernel as fallback when running on GPU.\n",
            "WARNING:tensorflow:Layer lstm will not use cuDNN kernels since it doesn't meet the criteria. It will use a generic GPU kernel as fallback when running on GPU.\n",
            "WARNING:tensorflow:Layer lstm will not use cuDNN kernels since it doesn't meet the criteria. It will use a generic GPU kernel as fallback when running on GPU.\n",
            "WARNING:tensorflow:Layer lstm_1 will not use cuDNN kernels since it doesn't meet the criteria. It will use a generic GPU kernel as fallback when running on GPU.\n",
            "WARNING:tensorflow:Layer lstm_1 will not use cuDNN kernels since it doesn't meet the criteria. It will use a generic GPU kernel as fallback when running on GPU.\n",
            "WARNING:tensorflow:Layer lstm_1 will not use cuDNN kernels since it doesn't meet the criteria. It will use a generic GPU kernel as fallback when running on GPU.\n"
          ]
        }
      ],
      "source": [
        "#CNN-LSTM Model\n",
        "\n",
        "def scheduler(epoch, lr):\n",
        "    if epoch<10:\n",
        "        return lr\n",
        "    elif epoch<40:\n",
        "        return lr*0.98\n",
        "    elif epoch<120:\n",
        "        return lr*0.95\n",
        "    else:\n",
        "        return lr*0.9\n",
        "    \n",
        "\n",
        "callback1=keras.callbacks.EarlyStopping(monitor='val_loss', patience=50)\n",
        "callback2 = tf.keras.callbacks.LearningRateScheduler(scheduler)\n",
        "\n",
        "def exr_model():\n",
        "    opt = keras.optimizers.Adam(learning_rate=5e-6) #best 1e-5\n",
        "    model = keras.Sequential()\n",
        "    model.add(Conv1D(filters=128, kernel_size=3, activation='relu', input_shape=(train_set_sequence.shape[1], train_set_sequence.shape[2])))\n",
        "    model.add(MaxPooling1D(pool_size=2))\n",
        "    model.add(Flatten())\n",
        "    model.add(RepeatVector(1))\n",
        "    model.add(Dropout(rate=0.1))\n",
        "    model.add(Bidirectional(LSTM(units=128, return_sequences=True, activation='relu')))\n",
        "    model.add(Dropout(rate=0.1))\n",
        "    model.add(Bidirectional(LSTM(units=64, return_sequences=True, activation='relu')))\n",
        "    model.add(Dropout(rate=0.1))\n",
        "    model.add(Dense(64, activation='relu'))\n",
        "    model.add(TimeDistributed(Dense(1)))\n",
        "    model.compile(loss='mean_squared_error', optimizer=opt)\n",
        "    #model.summary()\n",
        "    return model\n",
        "\n",
        "\n",
        "model=exr_model()"
      ]
    },
    {
      "cell_type": "code",
      "execution_count": 16,
      "metadata": {},
      "outputs": [
        {
          "name": "stdout",
          "output_type": "stream",
          "text": [
            "Epoch 1/20\n",
            "53/53 [==============================] - 5s 63ms/step - loss: 0.1424 - val_loss: 0.1051 - lr: 5.0000e-06\n",
            "Epoch 2/20\n",
            "53/53 [==============================] - 3s 53ms/step - loss: 0.1326 - val_loss: 0.0959 - lr: 5.0000e-06\n",
            "Epoch 3/20\n",
            "53/53 [==============================] - 3s 49ms/step - loss: 0.1193 - val_loss: 0.0847 - lr: 5.0000e-06\n",
            "Epoch 4/20\n",
            "53/53 [==============================] - 3s 48ms/step - loss: 0.1030 - val_loss: 0.0712 - lr: 5.0000e-06\n",
            "Epoch 5/20\n",
            "53/53 [==============================] - 3s 48ms/step - loss: 0.0833 - val_loss: 0.0559 - lr: 5.0000e-06\n",
            "Epoch 6/20\n",
            "53/53 [==============================] - 3s 48ms/step - loss: 0.0610 - val_loss: 0.0397 - lr: 5.0000e-06\n",
            "Epoch 7/20\n",
            "53/53 [==============================] - 3s 49ms/step - loss: 0.0392 - val_loss: 0.0244 - lr: 5.0000e-06\n",
            "Epoch 8/20\n",
            "53/53 [==============================] - 3s 48ms/step - loss: 0.0218 - val_loss: 0.0135 - lr: 5.0000e-06\n",
            "Epoch 9/20\n",
            "53/53 [==============================] - 3s 48ms/step - loss: 0.0127 - val_loss: 0.0077 - lr: 5.0000e-06\n",
            "Epoch 10/20\n",
            "53/53 [==============================] - 3s 49ms/step - loss: 0.0099 - val_loss: 0.0056 - lr: 5.0000e-06\n",
            "Epoch 11/20\n",
            "53/53 [==============================] - 3s 48ms/step - loss: 0.0093 - val_loss: 0.0050 - lr: 4.9000e-06\n",
            "Epoch 12/20\n",
            "53/53 [==============================] - 3s 48ms/step - loss: 0.0092 - val_loss: 0.0047 - lr: 4.8020e-06\n",
            "Epoch 13/20\n",
            "53/53 [==============================] - 3s 48ms/step - loss: 0.0092 - val_loss: 0.0045 - lr: 4.7060e-06\n",
            "Epoch 14/20\n",
            "53/53 [==============================] - 3s 50ms/step - loss: 0.0086 - val_loss: 0.0043 - lr: 4.6118e-06\n",
            "Epoch 15/20\n",
            "53/53 [==============================] - 3s 48ms/step - loss: 0.0086 - val_loss: 0.0042 - lr: 4.5196e-06\n",
            "Epoch 16/20\n",
            "53/53 [==============================] - 3s 49ms/step - loss: 0.0083 - val_loss: 0.0041 - lr: 4.4292e-06\n",
            "Epoch 17/20\n",
            "53/53 [==============================] - 3s 48ms/step - loss: 0.0083 - val_loss: 0.0040 - lr: 4.3406e-06\n",
            "Epoch 18/20\n",
            "53/53 [==============================] - 3s 49ms/step - loss: 0.0081 - val_loss: 0.0039 - lr: 4.2538e-06\n",
            "Epoch 19/20\n",
            "53/53 [==============================] - 3s 48ms/step - loss: 0.0078 - val_loss: 0.0037 - lr: 4.1687e-06\n",
            "Epoch 20/20\n",
            "53/53 [==============================] - 3s 49ms/step - loss: 0.0079 - val_loss: 0.0036 - lr: 4.0854e-06\n",
            "\n",
            "Fitting Complete\n"
          ]
        }
      ],
      "source": [
        "#CNN-BiLSTM Fitting\n",
        "\n",
        "model.fit(\n",
        "    train_set_sequence,\n",
        "    train_set_output, \n",
        "    epochs=20, \n",
        "    batch_size=64,\n",
        "    validation_data=(valid_set_sequence, valid_set_output),\n",
        "    callbacks=[callback1, callback2],\n",
        "    shuffle=True)\n",
        "\n",
        "print('\\nFitting Complete')\n",
        "#joblib.dump(model, './model1.pkl')\n"
      ]
    },
    {
      "cell_type": "code",
      "execution_count": 50,
      "metadata": {},
      "outputs": [
        {
          "data": {
            "text/plain": [
              "<matplotlib.legend.Legend at 0x331241b20>"
            ]
          },
          "execution_count": 50,
          "metadata": {},
          "output_type": "execute_result"
        },
        {
          "data": {
            "image/png": "[encoded data removed]",
            "text/plain": [
              "<Figure size 432x288 with 1 Axes>"
            ]
          },
          "metadata": {
            "needs_background": "light"
          },
          "output_type": "display_data"
        }
      ],
      "source": [
        "fig,ax = plt.subplots()\n",
        "plt.plot(model.history.history['loss'], label='training loss')\n",
        "plt.plot(model.history.history['val_loss'], label='validation loss')\n",
        "ax.set_xlabel('EPOCHS')\n",
        "ax.set_ylabel('Loss value')\n",
        "#ax.set_xlim((130,200))\n",
        "#ax.set_ylim((7273,7274))\n",
        "ax.legend()"
      ]
    },
    {
      "cell_type": "code",
      "execution_count": 51,
      "metadata": {},
      "outputs": [
        {
          "name": "stdout",
          "output_type": "stream",
          "text": [
            "34/34 [==============================] - 1s 25ms/step\n"
          ]
        }
      ],
      "source": [
        "#train_predictions=model.predict(train_set_sequence)#.reshape(1,-1)[0]\n",
        "test_predictions=model.predict(test_set_sequence)#.reshape(1,-1)[0]"
      ]
    },
    {
      "cell_type": "code",
      "execution_count": 52,
      "metadata": {},
      "outputs": [
        {
          "data": {
            "text/plain": [
              "<matplotlib.legend.Legend at 0x36386a730>"
            ]
          },
          "execution_count": 52,
          "metadata": {},
          "output_type": "execute_result"
        },
        {
          "data": {
            "image/png": "[encoded data removed]",
            "text/plain": [
              "<Figure size 720x360 with 1 Axes>"
            ]
          },
          "metadata": {
            "needs_background": "light"
          },
          "output_type": "display_data"
        }
      ],
      "source": [
        "fig=plt.figure(figsize=(10,5))\n",
        "plt.plot(test_set_output, label='actual')\n",
        "plt.plot(test_predictions.reshape(-1,1), label='predicted')\n",
        "plt.legend(['Predicted','Actual'])"
      ]
    },
    {
      "cell_type": "code",
      "execution_count": null,
      "metadata": {},
      "outputs": [],
      "source": [
        "trs=train_set_output.shape[0]\n",
        "tes=test_set_output.shape[0]\n",
        "train=np.full((1,trs+tes), np.nan)[0]\n",
        "train[:trs]=train_set_output\n",
        "train[trs:]=test_set_output\n",
        "test=np.full((1,trs+tes), np.nan)[0]\n",
        "test[trs:]=test_predictions.reshape(1,-1)[0]\n",
        "\n",
        "fig=plt.figure(figsize=(20,10))\n",
        "plt.plot(train, label='actual')\n",
        "plt.plot(test, label='predicted')"
      ]
    },
    {
      "cell_type": "code",
      "execution_count": 53,
      "metadata": {},
      "outputs": [
        {
          "name": "stdout",
          "output_type": "stream",
          "text": [
            "Test RMSE:  0.0755\n"
          ]
        }
      ],
      "source": [
        "from sklearn.metrics import mean_squared_error\n",
        "\n",
        "def confirm_result(y_test, y_pred, p = 14):\n",
        "  \n",
        "  RMSE = mean_squared_error(y_test, y_pred)**0.5\n",
        "  return np.round(RMSE,4)\n",
        "\n",
        "#print('Train RMSE: ', confirm_result(train_set_output, train_predictions.reshape(-1,1)))\n",
        "print('Test RMSE: ', confirm_result(test_set_output, test_predictions.reshape(-1,1)))"
      ]
    },
    {
      "attachments": {},
      "cell_type": "markdown",
      "metadata": {},
      "source": [
        "# Model 2. Seq2Seq\n",
        "* Encoder: CNN\n",
        "* Decoder: BiLSTM"
      ]
    },
    {
      "cell_type": "code",
      "execution_count": 54,
      "metadata": {},
      "outputs": [
        {
          "name": "stdout",
          "output_type": "stream",
          "text": [
            "WARNING:tensorflow:Layer lstm_9 will not use cuDNN kernels since it doesn't meet the criteria. It will use a generic GPU kernel as fallback when running on GPU.\n"
          ]
        },
        {
          "name": "stderr",
          "output_type": "stream",
          "text": [
            "WARNING:tensorflow:Layer lstm_9 will not use cuDNN kernels since it doesn't meet the criteria. It will use a generic GPU kernel as fallback when running on GPU.\n"
          ]
        },
        {
          "name": "stdout",
          "output_type": "stream",
          "text": [
            "WARNING:tensorflow:Layer lstm_9 will not use cuDNN kernels since it doesn't meet the criteria. It will use a generic GPU kernel as fallback when running on GPU.\n"
          ]
        },
        {
          "name": "stderr",
          "output_type": "stream",
          "text": [
            "WARNING:tensorflow:Layer lstm_9 will not use cuDNN kernels since it doesn't meet the criteria. It will use a generic GPU kernel as fallback when running on GPU.\n"
          ]
        },
        {
          "name": "stdout",
          "output_type": "stream",
          "text": [
            "WARNING:tensorflow:Layer lstm_9 will not use cuDNN kernels since it doesn't meet the criteria. It will use a generic GPU kernel as fallback when running on GPU.\n"
          ]
        },
        {
          "name": "stderr",
          "output_type": "stream",
          "text": [
            "WARNING:tensorflow:Layer lstm_9 will not use cuDNN kernels since it doesn't meet the criteria. It will use a generic GPU kernel as fallback when running on GPU.\n"
          ]
        },
        {
          "name": "stdout",
          "output_type": "stream",
          "text": [
            "WARNING:tensorflow:Layer lstm_10 will not use cuDNN kernels since it doesn't meet the criteria. It will use a generic GPU kernel as fallback when running on GPU.\n"
          ]
        },
        {
          "name": "stderr",
          "output_type": "stream",
          "text": [
            "WARNING:tensorflow:Layer lstm_10 will not use cuDNN kernels since it doesn't meet the criteria. It will use a generic GPU kernel as fallback when running on GPU.\n"
          ]
        },
        {
          "name": "stdout",
          "output_type": "stream",
          "text": [
            "WARNING:tensorflow:Layer lstm_10 will not use cuDNN kernels since it doesn't meet the criteria. It will use a generic GPU kernel as fallback when running on GPU.\n"
          ]
        },
        {
          "name": "stderr",
          "output_type": "stream",
          "text": [
            "WARNING:tensorflow:Layer lstm_10 will not use cuDNN kernels since it doesn't meet the criteria. It will use a generic GPU kernel as fallback when running on GPU.\n"
          ]
        },
        {
          "name": "stdout",
          "output_type": "stream",
          "text": [
            "WARNING:tensorflow:Layer lstm_10 will not use cuDNN kernels since it doesn't meet the criteria. It will use a generic GPU kernel as fallback when running on GPU.\n"
          ]
        },
        {
          "name": "stderr",
          "output_type": "stream",
          "text": [
            "WARNING:tensorflow:Layer lstm_10 will not use cuDNN kernels since it doesn't meet the criteria. It will use a generic GPU kernel as fallback when running on GPU.\n"
          ]
        },
        {
          "name": "stdout",
          "output_type": "stream",
          "text": [
            "Model: \"sequential_4\"\n",
            "_________________________________________________________________\n",
            " Layer (type)                Output Shape              Param #   \n",
            "=================================================================\n",
            " conv1d_5 (Conv1D)           (None, 98, 128)           512       \n",
            "                                                                 \n",
            " conv1d_6 (Conv1D)           (None, 96, 64)            24640     \n",
            "                                                                 \n",
            " max_pooling1d_4 (MaxPooling  (None, 48, 64)           0         \n",
            " 1D)                                                             \n",
            "                                                                 \n",
            " flatten_4 (Flatten)         (None, 3072)              0         \n",
            "                                                                 \n",
            " dense_11 (Dense)            (None, 64)                196672    \n",
            "                                                                 \n",
            " repeat_vector_4 (RepeatVect  (None, 1, 64)            0         \n",
            " or)                                                             \n",
            "                                                                 \n",
            " bidirectional_9 (Bidirectio  (None, 1, 128)           66048     \n",
            " nal)                                                            \n",
            "                                                                 \n",
            " dropout_12 (Dropout)        (None, 1, 128)            0         \n",
            "                                                                 \n",
            " bidirectional_10 (Bidirecti  (None, 1, 64)            41216     \n",
            " onal)                                                           \n",
            "                                                                 \n",
            " dropout_13 (Dropout)        (None, 1, 64)             0         \n",
            "                                                                 \n",
            " dense_12 (Dense)            (None, 1, 64)             4160      \n",
            "                                                                 \n",
            " time_distributed_4 (TimeDis  (None, 1, 1)             65        \n",
            " tributed)                                                       \n",
            "                                                                 \n",
            "=================================================================\n",
            "Total params: 333,313\n",
            "Trainable params: 333,313\n",
            "Non-trainable params: 0\n",
            "_________________________________________________________________\n"
          ]
        }
      ],
      "source": [
        "#Seq2Seq\n",
        "def scheduler(epoch, lr):\n",
        "    if epoch<50:\n",
        "        return lr\n",
        "    else:\n",
        "        return lr*0.95\n",
        "\n",
        "callback1=keras.callbacks.EarlyStopping(monitor='val_loss', patience=5)\n",
        "callback2 = tf.keras.callbacks.LearningRateScheduler(scheduler)\n",
        "\n",
        "def exr_model():\n",
        "    opt = keras.optimizers.Adam(learning_rate=1e-5) #best 1e-5\n",
        "    model = keras.Sequential()\n",
        "    \n",
        "    #encoder\n",
        "    model.add(Conv1D(filters=128, kernel_size=3, activation='relu', input_shape=(train_set_sequence.shape[1], train_set_sequence.shape[2])))\n",
        "    model.add(Conv1D(filters=64, kernel_size=3, activation='relu'))\n",
        "    model.add(MaxPooling1D(pool_size=2))\n",
        "    model.add(Flatten())\n",
        "    model.add(Dense(64, activation='relu'))\n",
        "    model.add(RepeatVector(1))\n",
        "    \n",
        "    #decoder\n",
        "    model.add(Bidirectional(LSTM(units=64, return_sequences=True, activation='relu')))\n",
        "    model.add(Dropout(rate=0.1))\n",
        "    model.add(Bidirectional(LSTM(units=32, return_sequences=True, activation='relu')))\n",
        "    model.add(Dropout(rate=0.1))\n",
        "    model.add(Dense(64, activation='relu'))\n",
        "    model.add(TimeDistributed(Dense(1)))\n",
        "    model.compile(loss='mean_squared_error', optimizer=opt)\n",
        "    model.summary()\n",
        "    return model\n",
        "model=exr_model()"
      ]
    },
    {
      "cell_type": "code",
      "execution_count": 55,
      "metadata": {},
      "outputs": [
        {
          "name": "stdout",
          "output_type": "stream",
          "text": [
            "Epoch 1/20\n",
            "53/53 [==============================] - 7s 91ms/step - loss: 0.1425 - val_loss: 0.1069 - lr: 1.0000e-05\n",
            "Epoch 2/20\n",
            "53/53 [==============================] - 2s 41ms/step - loss: 0.1377 - val_loss: 0.1022 - lr: 1.0000e-05\n",
            "Epoch 3/20\n",
            "53/53 [==============================] - 2s 38ms/step - loss: 0.1318 - val_loss: 0.0963 - lr: 1.0000e-05\n",
            "Epoch 4/20\n",
            "53/53 [==============================] - 2s 47ms/step - loss: 0.1234 - val_loss: 0.0878 - lr: 1.0000e-05\n",
            "Epoch 5/20\n",
            "53/53 [==============================] - 2s 43ms/step - loss: 0.1105 - val_loss: 0.0749 - lr: 1.0000e-05\n",
            "Epoch 6/20\n",
            "53/53 [==============================] - 2s 38ms/step - loss: 0.0892 - val_loss: 0.0543 - lr: 1.0000e-05\n",
            "Epoch 7/20\n",
            "53/53 [==============================] - 2s 44ms/step - loss: 0.0555 - val_loss: 0.0258 - lr: 1.0000e-05\n",
            "Epoch 8/20\n",
            "53/53 [==============================] - 2s 40ms/step - loss: 0.0199 - val_loss: 0.0054 - lr: 1.0000e-05\n",
            "Epoch 9/20\n",
            "53/53 [==============================] - 2s 40ms/step - loss: 0.0090 - val_loss: 0.0032 - lr: 1.0000e-05\n",
            "Epoch 10/20\n",
            "53/53 [==============================] - 2s 39ms/step - loss: 0.0085 - val_loss: 0.0033 - lr: 1.0000e-05\n",
            "Epoch 11/20\n",
            "53/53 [==============================] - 2s 39ms/step - loss: 0.0085 - val_loss: 0.0030 - lr: 1.0000e-05\n",
            "Epoch 12/20\n",
            "53/53 [==============================] - 2s 37ms/step - loss: 0.0081 - val_loss: 0.0030 - lr: 1.0000e-05\n",
            "Epoch 13/20\n",
            "53/53 [==============================] - 2s 39ms/step - loss: 0.0080 - val_loss: 0.0030 - lr: 1.0000e-05\n",
            "Epoch 14/20\n",
            "53/53 [==============================] - 2s 40ms/step - loss: 0.0078 - val_loss: 0.0027 - lr: 1.0000e-05\n",
            "Epoch 15/20\n",
            "53/53 [==============================] - 2s 38ms/step - loss: 0.0076 - val_loss: 0.0026 - lr: 1.0000e-05\n",
            "Epoch 16/20\n",
            "53/53 [==============================] - 2s 40ms/step - loss: 0.0075 - val_loss: 0.0026 - lr: 1.0000e-05\n",
            "Epoch 17/20\n",
            "53/53 [==============================] - 2s 38ms/step - loss: 0.0074 - val_loss: 0.0025 - lr: 1.0000e-05\n",
            "Epoch 18/20\n",
            "53/53 [==============================] - 2s 39ms/step - loss: 0.0071 - val_loss: 0.0025 - lr: 1.0000e-05\n",
            "Epoch 19/20\n",
            "53/53 [==============================] - 2s 37ms/step - loss: 0.0071 - val_loss: 0.0025 - lr: 1.0000e-05\n",
            "Epoch 20/20\n",
            "53/53 [==============================] - 2s 36ms/step - loss: 0.0071 - val_loss: 0.0025 - lr: 1.0000e-05\n",
            "\n",
            "Fitting Complete\n"
          ]
        },
        {
          "name": "stderr",
          "output_type": "stream",
          "text": [
            "WARNING:absl:Found untraced functions such as _jit_compiled_convolution_op, _jit_compiled_convolution_op while saving (showing 2 of 2). These functions will not be directly callable after loading.\n"
          ]
        },
        {
          "name": "stdout",
          "output_type": "stream",
          "text": [
            "INFO:tensorflow:Assets written to: ram://782b028134c6467f91ffda703901994e/assets\n"
          ]
        },
        {
          "name": "stderr",
          "output_type": "stream",
          "text": [
            "INFO:tensorflow:Assets written to: ram://782b028134c6467f91ffda703901994e/assets\n"
          ]
        },
        {
          "data": {
            "text/plain": [
              "['./model2.pkl']"
            ]
          },
          "execution_count": 55,
          "metadata": {},
          "output_type": "execute_result"
        }
      ],
      "source": [
        "#Seq2Seq Fitting\n",
        "\n",
        "model.fit(\n",
        "    train_set_sequence,\n",
        "    train_set_output, \n",
        "    epochs=20, \n",
        "    batch_size=64,\n",
        "    validation_data=(valid_set_sequence, valid_set_output),\n",
        "    callbacks=[callback1, callback2],\n",
        "    shuffle=True)\n",
        "\n",
        "print('\\nFitting Complete')\n",
        "joblib.dump(model, './model2.pkl')\n"
      ]
    },
    {
      "cell_type": "code",
      "execution_count": 56,
      "metadata": {},
      "outputs": [
        {
          "data": {
            "text/plain": [
              "<matplotlib.legend.Legend at 0x2ecc28100>"
            ]
          },
          "execution_count": 56,
          "metadata": {},
          "output_type": "execute_result"
        },
        {
          "data": {
            "image/png": "[encoded data removed]",
            "text/plain": [
              "<Figure size 432x288 with 1 Axes>"
            ]
          },
          "metadata": {
            "needs_background": "light"
          },
          "output_type": "display_data"
        }
      ],
      "source": [
        "# Plot loss\n",
        "fig,ax = plt.subplots()\n",
        "plt.plot(model.history.history['loss'], label='training loss')\n",
        "plt.plot(model.history.history['val_loss'], label='validation loss')\n",
        "ax.set_xlabel('EPOCHS')\n",
        "ax.set_ylabel('Loss value')\n",
        "#ax.set_xlim((30,50))\n",
        "#ax.set_ylim((4100,4200))\n",
        "ax.legend()"
      ]
    },
    {
      "cell_type": "code",
      "execution_count": 57,
      "metadata": {},
      "outputs": [
        {
          "name": "stdout",
          "output_type": "stream",
          "text": [
            "34/34 [==============================] - 1s 27ms/step\n"
          ]
        }
      ],
      "source": [
        "#predict\n",
        "#train_predictions=model.predict(train_set_sequence)\n",
        "test_predictions=model.predict(test_set_sequence)#.reshape(1,-1)[0]"
      ]
    },
    {
      "cell_type": "code",
      "execution_count": 58,
      "metadata": {},
      "outputs": [
        {
          "data": {
            "text/plain": [
              "<matplotlib.legend.Legend at 0x3c9eadeb0>"
            ]
          },
          "execution_count": 58,
          "metadata": {},
          "output_type": "execute_result"
        },
        {
          "data": {
            "image/png": "[encoded data removed]",
            "text/plain": [
              "<Figure size 720x360 with 1 Axes>"
            ]
          },
          "metadata": {
            "needs_background": "light"
          },
          "output_type": "display_data"
        }
      ],
      "source": [
        "fig=plt.figure(figsize=(10,5))\n",
        "plt.plot(test_set_output, label='actual')\n",
        "plt.plot(test_predictions.reshape(-1,1), label='predicted')\n",
        "plt.legend(['Predicted','Actual'])"
      ]
    },
    {
      "cell_type": "code",
      "execution_count": null,
      "metadata": {},
      "outputs": [],
      "source": [
        "trs=train_set_output.shape[0]\n",
        "tes=test_set_output.shape[0]\n",
        "train=np.full((1,trs+tes), np.nan)[0]\n",
        "train[:trs]=train_set_output\n",
        "train[trs:]=test_set_output\n",
        "test=np.full((1,trs+tes), np.nan)[0]\n",
        "test[trs:]=test_predictions.reshape(1,-1)[0]\n",
        "\n",
        "fig=plt.figure(figsize=(20,10))\n",
        "plt.plot(train, label='actual')\n",
        "plt.plot(test, label='predicted')\n",
        "plt.legend(['Actual','Pred'])"
      ]
    },
    {
      "cell_type": "code",
      "execution_count": 59,
      "metadata": {},
      "outputs": [
        {
          "name": "stdout",
          "output_type": "stream",
          "text": [
            "Test RMSE:  0.0715\n"
          ]
        }
      ],
      "source": [
        "from sklearn.metrics import mean_squared_error\n",
        "\n",
        "def confirm_result(y_test, y_pred, p = 14):\n",
        "  \n",
        "  RMSE = mean_squared_error(y_test, y_pred)**0.5\n",
        "  return np.round(RMSE,4)\n",
        "\n",
        "#print('Train RMSE: ', confirm_result(train_set_output, train_predictions.reshape(-1,1)))\n",
        "print('Test RMSE: ', confirm_result(test_set_output, test_predictions.reshape(-1,1)))"
      ]
    }
  ],
  "metadata": {
    "colab": {
      "provenance": []
    },
    "kernelspec": {
      "display_name": "Python 3",
      "name": "python3"
    },
    "language_info": {
      "codemirror_mode": {
        "name": "ipython",
        "version": 3
      },
      "file_extension": ".py",
      "mimetype": "text/x-python",
      "name": "python",
      "nbconvert_exporter": "python",
      "pygments_lexer": "ipython3",
      "version": "3.8.16"
    }
  },
  "nbformat": 4,
  "nbformat_minor": 0
}
