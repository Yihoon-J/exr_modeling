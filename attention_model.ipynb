{
  "cells": [
    {
      "cell_type": "code",
      "execution_count": 1,
      "metadata": {},
      "outputs": [
        {
          "name": "stdout",
          "output_type": "stream",
          "text": [
            "Num GPUs Available:  1\n"
          ]
        }
      ],
      "source": [
        "#GPU 사용 가능한지 체크\n",
        "import tensorflow as tf\n",
        "print(\"Num GPUs Available: \", len(tf.config.experimental.list_physical_devices('GPU')))"
      ]
    },
    {
      "cell_type": "code",
      "execution_count": 2,
      "metadata": {
        "colab": {
          "base_uri": "https://localhost:8080/",
          "height": 34
        },
        "colab_type": "code",
        "id": "nCQjvJO0mrq3",
        "outputId": "ba1037f4-ed02-4ecf-cb98-25a04d69943a"
      },
      "outputs": [],
      "source": [
        "import keras.backend as K\n",
        "import numpy as np\n",
        "\n",
        "\n",
        "def get_activations(model, inputs, print_shape_only=False, layer_name=None):\n",
        "    # Documentation is available online on Github at the address below.\n",
        "    # From: https://github.com/philipperemy/keras-visualize-activations\n",
        "    print('----- activations -----')\n",
        "    activations = []\n",
        "    inp = model.input\n",
        "    if layer_name is None:\n",
        "        outputs = [layer.output for layer in model.layers]\n",
        "    else:\n",
        "        outputs = [layer.output for layer in model.layers if layer.name == layer_name]  # all layer outputs\n",
        "    funcs = [K.function([inp] + [K.learning_phase()], [out]) for out in outputs]  # evaluation functions\n",
        "    layer_outputs = [func([inputs, 1.])[0] for func in funcs]\n",
        "    for layer_activations in layer_outputs:\n",
        "        activations.append(layer_activations)\n",
        "        if print_shape_only:\n",
        "            print(layer_activations.shape)\n",
        "        else:\n",
        "            print('shape为',layer_activations.shape)\n",
        "            print(layer_activations)\n",
        "    return activations"
      ]
    },
    {
      "cell_type": "code",
      "execution_count": 3,
      "metadata": {
        "colab": {},
        "colab_type": "code",
        "id": "dn1pNTYBnY1q"
      },
      "outputs": [],
      "source": [
        "from keras.layers import Input, Dense, LSTM ,Conv1D,Dropout,Bidirectional,Multiply\n",
        "from keras.models import Model\n",
        "\n",
        "#from attention_utils import get_activations\n",
        "#from keras.layers import merge\n",
        "from keras.layers import Multiply\n",
        "from keras.layers.core import *\n",
        "#from keras.layers.recurrent import LSTM\n",
        "from keras.models import *\n",
        "\n",
        "import  pandas as pd\n",
        "import  numpy as np\n",
        "\n",
        "SINGLE_ATTENTION_VECTOR = False\n",
        "def attention_3d_block(inputs):\n",
        "    # inputs.shape = (batch_size, time_steps, input_dim)\n",
        "    input_dim = int(inputs.shape[2])\n",
        "    a = inputs\n",
        "    #a = Permute((2, 1))(inputs)\n",
        "    #a = Reshape((input_dim, TIME_STEPS))(a) # this line is not useful. It's just to know which dimension is what.\n",
        "    a = Dense(input_dim, activation='softmax')(a)\n",
        "    if SINGLE_ATTENTION_VECTOR:\n",
        "        a = Lambda(lambda x: K.mean(x, axis=1), name='dim_reduction')(a)\n",
        "        a = RepeatVector(input_dim)(a)\n",
        "    a_probs = Permute((1, 2), name='attention_vec')(a)\n",
        "\n",
        "    #output_attention_mul = merge([inputs, a_probs], name='attention_mul', mode='mul')\n",
        "    output_attention_mul = Multiply()([inputs, a_probs])\n",
        "    return output_attention_mul\n",
        "\n",
        "# Another way of writing the attention mechanism is suitable for the use of the above error source:https://blog.csdn.net/uhauha2929/article/details/80733255\n",
        "def attention_3d_block2(inputs, single_attention_vector=False):\n",
        "    # If the upper layer is LSTM, you need return_sequences=True\n",
        "    # inputs.shape = (batch_size, time_steps, input_dim)\n",
        "    time_steps = K.int_shape(inputs)[1]\n",
        "    input_dim = K.int_shape(inputs)[2]\n",
        "    a = Permute((2, 1))(inputs)\n",
        "    a = Dense(time_steps, activation='softmax')(a)\n",
        "    if single_attention_vector:\n",
        "        a = Lambda(lambda x: K.mean(x, axis=1))(a)\n",
        "        a = RepeatVector(input_dim)(a)\n",
        "\n",
        "    a_probs = Permute((2, 1))(a)\n",
        "    # Multiplied by the attention weight, but there is no summation, it seems to have little effect\n",
        "    # If you classify tasks, you can do Flatten expansion\n",
        "    # element-wise\n",
        "    output_attention_mul = Multiply()([inputs, a_probs])\n",
        "    return output_attention_mul\n",
        "\n",
        "\n",
        "\n",
        "def create_dataset(dataset, look_back):\n",
        "    '''\n",
        "    Processing the data\n",
        "    '''\n",
        "    dataX, dataY = [], []\n",
        "    for i in range(len(dataset)-look_back-1):\n",
        "        a = dataset[i:(i+look_back),:]\n",
        "        dataX.append(a)\n",
        "        dataY.append(dataset[i + look_back,:])\n",
        "    TrainX = np.array(dataX)\n",
        "    Train_Y = np.array(dataY)\n",
        "\n",
        "    return TrainX, Train_Y\n",
        "\n",
        "# Multidimensional normalization returns data and maximum and minimum values\n",
        "def NormalizeMult(data):\n",
        "    #normalize Used for denormalization\n",
        "    data = np.array(data)\n",
        "    normalize = np.arange(2*data.shape[1],dtype='float64')\n",
        "\n",
        "    normalize = normalize.reshape(data.shape[1],2)\n",
        "    for i in range(0,data.shape[1]):\n",
        "        #Column i\n",
        "        list = data[:,i]\n",
        "        listlow,listhigh =  np.percentile(list, [0, 100])\n",
        "        # print(i)\n",
        "        normalize[i,0] = listlow\n",
        "        normalize[i,1] = listhigh\n",
        "        delta = listhigh - listlow\n",
        "        if delta != 0:\n",
        "            #Row j\n",
        "            for j in range(0,data.shape[0]):\n",
        "                data[j,i]  =  (data[j,i] - listlow)/delta\n",
        "    #np.save(\"./normalize.npy\",normalize)\n",
        "    return  data,normalize\n",
        "\n",
        "# Multidimensional denormalization\n",
        "def FNormalizeMult(data,normalize):\n",
        "    data = np.array(data)\n",
        "    for i in  range(0,data.shape[1]):\n",
        "        listlow =  normalize[i,0]\n",
        "        listhigh = normalize[i,1]\n",
        "        delta = listhigh - listlow\n",
        "        if delta != 0:\n",
        "            #Row j\n",
        "            for j in range(0,data.shape[0]):\n",
        "                data[j,i]  =  data[j,i]*delta + listlow\n",
        "\n",
        "    return data\n",
        "\n",
        "\n",
        "def attention_model():\n",
        "    inputs = Input(shape=(TIME_STEPS, INPUT_DIMS))\n",
        "\n",
        "    x = Conv1D(filters = 64, kernel_size = 1, activation = 'relu')(inputs)  #, padding = 'same'\n",
        "    x = Dropout(0.1)(x)\n",
        "    x2 = Conv1D(filters = 64, kernel_size = 1, activation = 'relu')(x)  #, padding = 'same'\n",
        "    x2 = Dropout(0.1)(x2)\n",
        "    \n",
        "    #lstm_out = Bidirectional(LSTM(lstm_units, activation='relu'), name='bilstm')(x)\n",
        "    #For GPU you can use CuDNNLSTM\n",
        "    lstm_out = Bidirectional(LSTM(lstm_units, return_sequences=True))(x)\n",
        "    lstm_out = Dropout(0.3)(lstm_out)\n",
        "    lstm_out2 = Bidirectional(LSTM(lstm_units, return_sequences=True))(lstm_out)\n",
        "    lstm_out2 = Dropout(0.3)(lstm_out2)\n",
        "    attention_mul = attention_3d_block(lstm_out2)\n",
        "    attention_mul = Flatten()(attention_mul)\n",
        "\n",
        "    #output = Dense(1, activation='sigmoid')(attention_mul)\n",
        "    output = Dense(1, activation='linear')(attention_mul)\n",
        "    model = Model(inputs=[inputs], outputs=output)\n",
        "    return model"
      ]
    },
    {
      "cell_type": "code",
      "execution_count": 4,
      "metadata": {
        "colab": {
          "base_uri": "https://localhost:8080/",
          "height": 51
        },
        "colab_type": "code",
        "id": "vjwlHDLjrPll",
        "outputId": "301a9137-f811-4247-d69c-f5d5b9658314"
      },
      "outputs": [
        {
          "name": "stdout",
          "output_type": "stream",
          "text": [
            "len(train): 4652\n",
            "len(test): 1164\n"
          ]
        }
      ],
      "source": [
        "from sklearn.model_selection import train_test_split\n",
        "df=pd.DataFrame(pd.read_excel('./F5_데이터정리.xlsx', sheet_name='Daily')['mkt_exr'])\n",
        "train_size = int(len(df)*0.8)\n",
        "train = df.iloc[:train_size,:]\n",
        "test = df.iloc[train_size:,:]\n",
        "#train, test = train_test_split(df, test_size=0.1)\n",
        "print(\"len(train):\",len(train))\n",
        "print(\"len(test):\",len(test))"
      ]
    },
    {
      "cell_type": "code",
      "execution_count": 5,
      "metadata": {
        "colab": {},
        "colab_type": "code",
        "id": "szdBNQSAzKLL"
      },
      "outputs": [],
      "source": [
        "import keras.backend as K\n",
        "def r2_keras(y_true, y_pred):\n",
        "    \"\"\"Coefficiaent of Determination \n",
        "    \"\"\"\n",
        "    SS_res =  K.sum(K.square( y_true - y_pred ))\n",
        "    SS_tot = K.sum(K.square( y_true - K.mean(y_true) ) )\n",
        "    return ( 1 - SS_res/(SS_tot + K.epsilon()) )"
      ]
    },
    {
      "cell_type": "code",
      "execution_count": 6,
      "metadata": {
        "colab": {
          "base_uri": "https://localhost:8080/",
          "height": 901
        },
        "colab_type": "code",
        "id": "7ZXNNnEMwIG5",
        "outputId": "65095f4c-b287-453b-f5be-e02b3019687f"
      },
      "outputs": [
        {
          "name": "stdout",
          "output_type": "stream",
          "text": [
            "(4551, 100, 1) (4551, 1)\n",
            "Model: \"model\"\n",
            "__________________________________________________________________________________________________\n",
            " Layer (type)                   Output Shape         Param #     Connected to                     \n",
            "==================================================================================================\n",
            " input_1 (InputLayer)           [(None, 100, 1)]     0           []                               \n",
            "                                                                                                  \n",
            " conv1d (Conv1D)                (None, 100, 64)      128         ['input_1[0][0]']                \n",
            "                                                                                                  \n",
            " dropout (Dropout)              (None, 100, 64)      0           ['conv1d[0][0]']                 \n",
            "                                                                                                  \n",
            " bidirectional (Bidirectional)  (None, 100, 128)     66048       ['dropout[0][0]']                \n",
            "                                                                                                  \n",
            " dropout_2 (Dropout)            (None, 100, 128)     0           ['bidirectional[0][0]']          \n",
            "                                                                                                  \n",
            " bidirectional_1 (Bidirectional  (None, 100, 128)    98816       ['dropout_2[0][0]']              \n",
            " )                                                                                                \n",
            "                                                                                                  \n",
            " dropout_3 (Dropout)            (None, 100, 128)     0           ['bidirectional_1[0][0]']        \n",
            "                                                                                                  \n",
            " dense (Dense)                  (None, 100, 128)     16512       ['dropout_3[0][0]']              \n",
            "                                                                                                  \n",
            " attention_vec (Permute)        (None, 100, 128)     0           ['dense[0][0]']                  \n",
            "                                                                                                  \n",
            " multiply (Multiply)            (None, 100, 128)     0           ['dropout_3[0][0]',              \n",
            "                                                                  'attention_vec[0][0]']          \n",
            "                                                                                                  \n",
            " flatten (Flatten)              (None, 12800)        0           ['multiply[0][0]']               \n",
            "                                                                                                  \n",
            " dense_1 (Dense)                (None, 1)            12801       ['flatten[0][0]']                \n",
            "                                                                                                  \n",
            "==================================================================================================\n",
            "Total params: 194,305\n",
            "Trainable params: 194,305\n",
            "Non-trainable params: 0\n",
            "__________________________________________________________________________________________________\n",
            "Epoch 1/20\n",
            "54/54 [==============================] - 7s 94ms/step - loss: 0.0327 - mse: 0.0327 - r2_keras: -0.0110 - val_loss: 0.0024 - val_mse: 0.0024 - val_r2_keras: -3.9544\n",
            "Epoch 2/20\n",
            "54/54 [==============================] - 4s 76ms/step - loss: 0.0040 - mse: 0.0040 - r2_keras: 0.8761 - val_loss: 0.0013 - val_mse: 0.0013 - val_r2_keras: -1.8028\n",
            "Epoch 3/20\n",
            "54/54 [==============================] - 4s 81ms/step - loss: 0.0019 - mse: 0.0019 - r2_keras: 0.9427 - val_loss: 7.2263e-04 - val_mse: 7.2263e-04 - val_r2_keras: -0.6003\n",
            "Epoch 4/20\n",
            "54/54 [==============================] - 4s 83ms/step - loss: 0.0014 - mse: 0.0014 - r2_keras: 0.9558 - val_loss: 6.2655e-04 - val_mse: 6.2655e-04 - val_r2_keras: -0.4629\n",
            "Epoch 5/20\n",
            "54/54 [==============================] - 4s 78ms/step - loss: 0.0011 - mse: 0.0011 - r2_keras: 0.9648 - val_loss: 4.8364e-04 - val_mse: 4.8364e-04 - val_r2_keras: -0.2194\n",
            "Epoch 6/20\n",
            "54/54 [==============================] - 4s 76ms/step - loss: 0.0012 - mse: 0.0012 - r2_keras: 0.9631 - val_loss: 4.3060e-04 - val_mse: 4.3060e-04 - val_r2_keras: -0.0368\n",
            "Epoch 7/20\n",
            "54/54 [==============================] - 4s 73ms/step - loss: 9.4305e-04 - mse: 9.4305e-04 - r2_keras: 0.9707 - val_loss: 5.7844e-04 - val_mse: 5.7844e-04 - val_r2_keras: -0.6719\n",
            "Epoch 8/20\n",
            "54/54 [==============================] - 4s 74ms/step - loss: 7.5685e-04 - mse: 7.5685e-04 - r2_keras: 0.9765 - val_loss: 3.1929e-04 - val_mse: 3.1929e-04 - val_r2_keras: 0.1885\n",
            "Epoch 9/20\n",
            "54/54 [==============================] - 4s 75ms/step - loss: 6.8737e-04 - mse: 6.8737e-04 - r2_keras: 0.9781 - val_loss: 2.6468e-04 - val_mse: 2.6468e-04 - val_r2_keras: 0.3550\n",
            "Epoch 10/20\n",
            "54/54 [==============================] - 4s 79ms/step - loss: 6.5677e-04 - mse: 6.5677e-04 - r2_keras: 0.9789 - val_loss: 3.4924e-04 - val_mse: 3.4924e-04 - val_r2_keras: -0.0174\n",
            "Epoch 11/20\n",
            "54/54 [==============================] - 4s 75ms/step - loss: 6.2187e-04 - mse: 6.2187e-04 - r2_keras: 0.9800 - val_loss: 2.3706e-04 - val_mse: 2.3706e-04 - val_r2_keras: 0.4131\n",
            "Epoch 12/20\n",
            "54/54 [==============================] - 4s 74ms/step - loss: 5.7600e-04 - mse: 5.7600e-04 - r2_keras: 0.9820 - val_loss: 2.1354e-04 - val_mse: 2.1354e-04 - val_r2_keras: 0.4924\n",
            "Epoch 13/20\n",
            "54/54 [==============================] - 4s 76ms/step - loss: 6.0616e-04 - mse: 6.0616e-04 - r2_keras: 0.9809 - val_loss: 2.1492e-04 - val_mse: 2.1492e-04 - val_r2_keras: 0.4392\n",
            "Epoch 14/20\n",
            "54/54 [==============================] - 4s 74ms/step - loss: 6.1581e-04 - mse: 6.1581e-04 - r2_keras: 0.9807 - val_loss: 2.2923e-04 - val_mse: 2.2923e-04 - val_r2_keras: 0.4251\n",
            "Epoch 15/20\n",
            "54/54 [==============================] - 4s 75ms/step - loss: 6.2448e-04 - mse: 6.2448e-04 - r2_keras: 0.9801 - val_loss: 4.0186e-04 - val_mse: 4.0186e-04 - val_r2_keras: 0.1181\n",
            "Epoch 16/20\n",
            "54/54 [==============================] - 4s 78ms/step - loss: 5.0145e-04 - mse: 5.0145e-04 - r2_keras: 0.9843 - val_loss: 1.9347e-04 - val_mse: 1.9347e-04 - val_r2_keras: 0.5303\n",
            "Epoch 17/20\n",
            "54/54 [==============================] - 4s 79ms/step - loss: 5.0265e-04 - mse: 5.0265e-04 - r2_keras: 0.9842 - val_loss: 1.9422e-04 - val_mse: 1.9422e-04 - val_r2_keras: 0.5009\n",
            "Epoch 18/20\n",
            "54/54 [==============================] - 4s 81ms/step - loss: 5.3083e-04 - mse: 5.3083e-04 - r2_keras: 0.9831 - val_loss: 6.3874e-04 - val_mse: 6.3874e-04 - val_r2_keras: -0.7431\n",
            "Epoch 19/20\n",
            "54/54 [==============================] - 4s 75ms/step - loss: 6.4167e-04 - mse: 6.4167e-04 - r2_keras: 0.9796 - val_loss: 2.0278e-04 - val_mse: 2.0278e-04 - val_r2_keras: 0.4471\n",
            "Epoch 20/20\n",
            "54/54 [==============================] - 4s 78ms/step - loss: 4.7792e-04 - mse: 4.7792e-04 - r2_keras: 0.9847 - val_loss: 1.7833e-04 - val_mse: 1.7833e-04 - val_r2_keras: 0.6085\n"
          ]
        }
      ],
      "source": [
        "from keras.callbacks import EarlyStopping, ModelCheckpoint\n",
        "model_path = './model.h5'\n",
        "# TRAIN\n",
        "INPUT_DIMS = 1\n",
        "TIME_STEPS = 100\n",
        "lstm_units = 64\n",
        "\n",
        "#Normalized\n",
        "train,normalize = NormalizeMult(train)\n",
        "#train=np.array(train)\n",
        "pollution_data = train[:,0].reshape(len(train),1)\n",
        "\n",
        "train_X, _ = create_dataset(train,TIME_STEPS)\n",
        "_ , train_Y = create_dataset(pollution_data,TIME_STEPS)\n",
        "print(train_X.shape,train_Y.shape)\n",
        "\n",
        "m = attention_model()\n",
        "m.summary()\n",
        "#m.compile(optimizer='adam', loss='mse')\n",
        "m.compile(loss='mse', optimizer='adam',metrics=['mse',r2_keras])\n",
        "\n",
        "# fit the network\n",
        "history =  m.fit([train_X], train_Y, epochs=20, batch_size=64, validation_split=0.25)\n",
        "#history = m.fit([train_X], train_Y, epochs=10, batch_size=64, validation_split=0.05, verbose=2,\n",
        "#          callbacks = [EarlyStopping(monitor='val_loss', min_delta=0, patience=10, verbose=0, mode='min'),\n",
        "#                       ModelCheckpoint(model_path,monitor='val_loss', save_best_only=True, mode='min', verbose=0)]\n",
        "#          )"
      ]
    },
    {
      "cell_type": "code",
      "execution_count": 7,
      "metadata": {
        "colab": {
          "base_uri": "https://localhost:8080/",
          "height": 1000
        },
        "colab_type": "code",
        "id": "jZMLqYnQE7pA",
        "outputId": "1ca909ef-17b5-4545-8008-359359b7a09e"
      },
      "outputs": [
        {
          "data": {
            "image/png": "[encoded data removed]",
            "text/plain": [
              "<Figure size 360x360 with 1 Axes>"
            ]
          },
          "metadata": {
            "needs_background": "light"
          },
          "output_type": "display_data"
        }
      ],
      "source": [
        "import matplotlib.pyplot as plt\n",
        "\n",
        "# summarize history for Loss\n",
        "fig_acc = plt.figure(figsize=(5, 5))\n",
        "plt.plot(history.history['loss'])\n",
        "plt.plot(history.history['val_loss'])\n",
        "plt.title('model loss')\n",
        "plt.ylabel('loss')\n",
        "plt.xlabel('epoch')\n",
        "plt.legend(['train', 'validation'], loc='upper left')\n",
        "plt.show()"
      ]
    },
    {
      "cell_type": "code",
      "execution_count": 8,
      "metadata": {
        "colab": {
          "base_uri": "https://localhost:8080/",
          "height": 51
        },
        "colab_type": "code",
        "id": "X2Eh6nLUxiOc",
        "outputId": "4266bc40-d511-4c17-dd8e-2be0776cd160"
      },
      "outputs": [
        {
          "name": "stdout",
          "output_type": "stream",
          "text": [
            "(1063, 100, 1) (1063, 1)\n"
          ]
        }
      ],
      "source": [
        "# TEST\n",
        "test,normalize = NormalizeMult(test)\n",
        "#test=np.array(test)\n",
        "pollution_test = test[:,0].reshape(len(test),1)\n",
        "\n",
        "test_X, _ = create_dataset(test,TIME_STEPS)\n",
        "_ , test_Y = create_dataset(pollution_test,TIME_STEPS)\n",
        "print(test_X.shape,test_Y.shape)"
      ]
    },
    {
      "cell_type": "code",
      "execution_count": 9,
      "metadata": {
        "colab": {},
        "colab_type": "code",
        "id": "GtqnO0rIEv33"
      },
      "outputs": [
        {
          "name": "stdout",
          "output_type": "stream",
          "text": [
            "34/34 - 1s - loss: 0.0012 - mse: 0.0012 - r2_keras: 0.2523 - 1s/epoch - 34ms/step\n"
          ]
        }
      ],
      "source": [
        "# Prediction\n",
        "scores_test = m.evaluate([test_X], test_Y, verbose=2)"
      ]
    },
    {
      "cell_type": "code",
      "execution_count": 10,
      "metadata": {
        "colab": {},
        "colab_type": "code",
        "id": "uMQIPLs2J5H0"
      },
      "outputs": [
        {
          "name": "stdout",
          "output_type": "stream",
          "text": [
            "34/34 [==============================] - 1s 23ms/step\n"
          ]
        }
      ],
      "source": [
        "results = m.predict([test_X])"
      ]
    },
    {
      "cell_type": "code",
      "execution_count": 11,
      "metadata": {
        "colab": {
          "base_uri": "https://localhost:8080/",
          "height": 136
        },
        "colab_type": "code",
        "id": "MJBK7xDBZbLn",
        "outputId": "bba4fa56-4290-431b-9bba-d42ee95292b2"
      },
      "outputs": [
        {
          "data": {
            "text/plain": [
              "array([[0.11199982],\n",
              "       [0.11332829],\n",
              "       [0.11578133],\n",
              "       ...,\n",
              "       [0.6037238 ],\n",
              "       [0.617087  ],\n",
              "       [0.625536  ]], dtype=float32)"
            ]
          },
          "execution_count": 11,
          "metadata": {},
          "output_type": "execute_result"
        }
      ],
      "source": [
        "results"
      ]
    },
    {
      "cell_type": "code",
      "execution_count": 12,
      "metadata": {
        "colab": {
          "base_uri": "https://localhost:8080/",
          "height": 621
        },
        "colab_type": "code",
        "id": "v9VJmMoYZjhK",
        "outputId": "0283f4d5-6fd1-4d3c-888d-eab09c5fb4a8"
      },
      "outputs": [
        {
          "data": {
            "image/png": "[encoded data removed]",
            "text/plain": [
              "<Figure size 720x360 with 1 Axes>"
            ]
          },
          "metadata": {
            "needs_background": "light"
          },
          "output_type": "display_data"
        }
      ],
      "source": [
        "fig_acc = plt.figure(figsize=(10, 5))\n",
        "plt.plot(test_Y)\n",
        "plt.plot(results)\n",
        "plt.ylabel('value')\n",
        "plt.legend(['Actual', 'Pred'])\n",
        "plt.show()"
      ]
    },
    {
      "cell_type": "code",
      "execution_count": 13,
      "metadata": {
        "colab": {},
        "colab_type": "code",
        "id": "C7h_veddhers"
      },
      "outputs": [
        {
          "name": "stdout",
          "output_type": "stream",
          "text": [
            "Test RMSE:  0.0341\n"
          ]
        }
      ],
      "source": [
        "from sklearn.metrics import mean_squared_error\n",
        "\n",
        "def confirm_result(y_test, y_pred):\n",
        "  \n",
        "  RMSE = mean_squared_error(y_test, y_pred)**0.5\n",
        "  return np.round(RMSE,4)\n",
        "\n",
        "#print('Train RMSE: ', confirm_result(train_set_output, train_predictions.reshape(-1,1)))\n",
        "print('Test RMSE: ', confirm_result(test_Y, results.reshape(-1,1)))"
      ]
    }
  ],
  "metadata": {
    "colab": {
      "name": "Cnn-bilstm-attention.ipynb",
      "provenance": []
    },
    "kernelspec": {
      "display_name": "Python 3",
      "name": "python3"
    },
    "language_info": {
      "codemirror_mode": {
        "name": "ipython",
        "version": 3
      },
      "file_extension": ".py",
      "mimetype": "text/x-python",
      "name": "python",
      "nbconvert_exporter": "python",
      "pygments_lexer": "ipython3",
      "version": "3.8.16"
    }
  },
  "nbformat": 4,
  "nbformat_minor": 0
}
